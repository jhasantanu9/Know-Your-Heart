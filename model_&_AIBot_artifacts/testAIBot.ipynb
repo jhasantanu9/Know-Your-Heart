{
 "cells": [
  {
   "cell_type": "code",
   "execution_count": 13,
   "metadata": {},
   "outputs": [],
   "source": [
    "import requests\n",
    "from langchain.prompts import PromptTemplate\n",
    "from langchain.llms.base import LLM\n",
    "from google.oauth2 import service_account\n",
    "import os\n",
    "from dotenv import load_dotenv"
   ]
  },
  {
   "cell_type": "code",
   "execution_count": 5,
   "metadata": {},
   "outputs": [],
   "source": [
    "# Google Gemini API configurations\n",
    "API_URL = \"https://gemini.googleapis.com/v1/projects/137941730896/locations/global/gemini\"\n",
    "API_KEY = os.getenv('API_KEY')"
   ]
  },
  {
   "cell_type": "code",
   "execution_count": 6,
   "metadata": {},
   "outputs": [],
   "source": [
    "class GeminiLLM(LLM):\n",
    "    def _call(self, prompt: str, stop=None) -> str:\n",
    "        \"\"\"\n",
    "        This function sends a request to the Gemini API and gets a response.\n",
    "        \"\"\"\n",
    "        headers = {\n",
    "            \"Content-Type\": \"application/json\",\n",
    "            \"Authorization\": f\"Bearer {API_KEY}\",\n",
    "        }\n",
    "        data = {\n",
    "            \"model\": \"gemini-1\",  \n",
    "            \"input\": prompt,\n",
    "            \"parameters\": {\"max_output_tokens\": 500},\n",
    "        }\n",
    "        response = requests.post(API_URL, headers=headers, json=data)\n",
    "        return response.json().get(\"output\", \"\")\n",
    "\n",
    "    @property\n",
    "    def _identifying_params(self):\n",
    "        return {\"api_url\": API_URL}\n",
    "\n",
    "    @property\n",
    "    def _llm_type(self):\n",
    "        return \"gemini\""
   ]
  },
  {
   "cell_type": "code",
   "execution_count": 7,
   "metadata": {},
   "outputs": [
    {
     "name": "stderr",
     "output_type": "stream",
     "text": [
      "C:\\Users\\Admin\\AppData\\Local\\Temp\\ipykernel_10144\\2500618890.py:16: LangChainDeprecationWarning: The class `LLMChain` was deprecated in LangChain 0.1.17 and will be removed in 1.0. Use :meth:`~RunnableSequence, e.g., `prompt | llm`` instead.\n",
      "  chain = LLMChain(llm=llm, prompt=prompt)\n"
     ]
    }
   ],
   "source": [
    "# Define a Prompt Template\n",
    "template = \"\"\"\n",
    "You are a healthcare assistant specialized in heart diseases. You will have a conversation with a user based on the following input:\n",
    "\n",
    "User Input: {user_input}\n",
    "\n",
    "Respond with heart disease information or advice tailored to their input.\n",
    "\"\"\"\n",
    "\n",
    "prompt = PromptTemplate(input_variables=[\"user_input\"], template=template)\n",
    "\n",
    "# Set up the Gemini API as the LLM (Assuming you've defined the GeminiLLM class)\n",
    "llm = GeminiLLM()\n",
    "\n",
    "# Create a LangChain pipeline using RunnableSequence\n",
    "chain = prompt | llm  # This is now the new syntax"
   ]
  },
  {
   "cell_type": "code",
   "execution_count": null,
   "metadata": {},
   "outputs": [],
   "source": [
    "# Example user interaction\n",
    "def get_response_from_chatbot(user_input):\n",
    "    response = chain.run(user_input)\n",
    "    return response\n"
   ]
  },
  {
   "cell_type": "code",
   "execution_count": null,
   "metadata": {},
   "outputs": [],
   "source": [
    "# Example usage\n",
    "user_input = \"What are the symptoms of heart disease?\"\n",
    "response = get_response_from_chatbot(user_input)\n",
    "print(response)"
   ]
  }
 ],
 "metadata": {
  "kernelspec": {
   "display_name": "base",
   "language": "python",
   "name": "python3"
  },
  "language_info": {
   "codemirror_mode": {
    "name": "ipython",
    "version": 3
   },
   "file_extension": ".py",
   "mimetype": "text/x-python",
   "name": "python",
   "nbconvert_exporter": "python",
   "pygments_lexer": "ipython3",
   "version": "3.11.5"
  }
 },
 "nbformat": 4,
 "nbformat_minor": 2
}
